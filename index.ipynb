{
  "cells": [
    {
      "cell_type": "raw",
      "metadata": {},
      "source": [
        "---\n",
        "format: \n",
        "  html:\n",
        "    toc: false\n",
        "---"
      ],
      "id": "86e26b40"
    },
    {
      "cell_type": "markdown",
      "metadata": {},
      "source": [
        "```{html}\n",
        "<div class=\"hero-image\">\n",
        "  <div class=\"hero-text\">\n",
        "    <h1>Your Title Here</h1>\n",
        "    <p>Your subtitle or additional text here</p>\n",
        "  </div>\n",
        "</div>\n",
        "```\n",
        "\n",
        "\n",
        "<!-- .hero-container { -->\n",
        "<!--   position: relative; -->\n",
        "<!--   width: 100%; -->\n",
        "<!--   max-height: 100vh; -->\n",
        "<!--   overflow: hidden; -->\n",
        "<!-- } -->\n",
        "\n",
        "<!-- .hero-image { -->\n",
        "<!--   width: 100%; -->\n",
        "<!--   height: auto; -->\n",
        "<!--   display: block; -->\n",
        "<!--   margin: 0 auto; -->\n",
        "<!-- } -->\n",
        "\n",
        "\n",
        "<!-- ::: {.column-screen} -->\n",
        "<!-- ![](/crowd-copy.jpg) -->\n",
        "<!-- ::: -->\n",
        "\n",
        "![](logocircle2.png){width=\"30%\" fig-align=\"center\"}\n",
        "\n",
        "> **CaviR** is an R-package and website, aiming to provide those using statistics the opportunity to perform complex but accurate statistics. In the package, people can use functions that provide the required output and knowledge about statistical analyses, without loosing the cognitive energy of doing and knowing the coding. In *Data Rt*, a number of tutorials can be found including the required codings and knowledge about statistics. By doing this, we hope to bridge the gap between what is known and what should be known.\n",
        "\n",
        "# News\n",
        "\n",
        "## CaviR 0.1\n",
        "\n",
        "In December 2023, we built this website to include as much of the information available that has been developed under the label of *CaviR.* On this website, we now provide all tutorials that were available in *DataRt* and updated these with the development of *CaviR* as an R package."
      ],
      "id": "ed7a1006"
    }
  ],
  "metadata": {
    "kernelspec": {
      "display_name": "Python 3",
      "language": "python",
      "name": "python3"
    }
  },
  "nbformat": 4,
  "nbformat_minor": 5
}